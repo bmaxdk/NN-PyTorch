{
 "cells": [
  {
   "cell_type": "markdown",
   "id": "817eb6ab",
   "metadata": {},
   "source": [
    "# Training MNIST Handwritten Digit"
   ]
  },
  {
   "cell_type": "code",
   "execution_count": 1,
   "id": "6d36dce7",
   "metadata": {},
   "outputs": [],
   "source": [
    "# basic torch libraries\n",
    "import torch\n",
    "import torchvision\n",
    "\n",
    "# data loading and transforming\n",
    "from torchvision.datasets import MNIST\n",
    "from torch.utils.data import DataLoader\n",
    "from torchvision import transforms\n",
    "\n",
    "# basic libraries\n",
    "import numpy as np\n",
    "import matplotlib.pyplot as plt\n",
    "%matplotlib inline\n",
    "%config InlineBackend.figure_format = 'retina'\n",
    "\n",
    "from collections import OrderedDict\n",
    "\n",
    "\n",
    "import torch.nn as nn\n",
    "import torch.nn.functional as F"
   ]
  },
  {
   "cell_type": "markdown",
   "id": "185e3a98",
   "metadata": {},
   "source": [
    "# Get the data and define the network\n",
    "[previous work](https://github.com/bmaxdk/NN-PyTorch/blob/main/07_MNIST/MNIST_Handwritten_Digit.ipynb) will be used of training.\n",
    "\n"
   ]
  },
  {
   "cell_type": "code",
   "execution_count": 2,
   "id": "5f3ce22a",
   "metadata": {},
   "outputs": [
    {
     "name": "stdout",
     "output_type": "stream",
     "text": [
      "Train data, number of images 60000\n",
      "Test data, number of images 10000\n"
     ]
    }
   ],
   "source": [
    "data_transform = transforms.Compose([transforms.ToTensor(),\n",
    "                                     transforms.Normalize((0.5, 0.5, 0.5),(0.5, 0.5, 0.5))])\n",
    "\n",
    "path = 'MNIST_data/'\n",
    "#Download Training datasets\n",
    "train_data = MNIST(root=path,\n",
    "                   train=True,\n",
    "                   download=True,\n",
    "                   transform=data_transform)\n",
    "\n",
    "#Download Test datasets\n",
    "test_data = MNIST(root=path,\n",
    "                  train=False,\n",
    "                  download=True,\n",
    "                  transform=data_transform)\n",
    "\n",
    "# Print out some stats about the training data\n",
    "print('Train data, number of images', len(train_data))\n",
    "\n",
    "# Print out some stats about the training data\n",
    "print('Test data, number of images', len(test_data))\n",
    "\n",
    "\n",
    "# shuffle the data and load in image/label data in batches of size 64\n",
    "# Depends on large or small size of batch size will affect the loss\n",
    "batch_size = 64\n",
    "\n",
    "# load train\n",
    "train_loader = DataLoader(train_data, batch_size=batch_size, shuffle=True)\n",
    "\n",
    "# load test\n",
    "test_loader = DataLoader(test_data, batch_size=batch_size, shuffle=True)\n",
    "\n"
   ]
  },
  {
   "cell_type": "code",
   "execution_count": 3,
   "id": "72193d9f",
   "metadata": {
    "scrolled": true
   },
   "outputs": [
    {
     "name": "stdout",
     "output_type": "stream",
     "text": [
      "Sequential(\n",
      "  (fc1): Linear(in_features=784, out_features=128, bias=True)\n",
      "  (relu1): ReLU()\n",
      "  (fc2): Linear(in_features=128, out_features=64, bias=True)\n",
      "  (relu2): ReLU()\n",
      "  (logits): Linear(in_features=64, out_features=10, bias=True)\n",
      ")\n"
     ]
    }
   ],
   "source": [
    "# Hyperparameters for the network\n",
    "input_size = 28*28 # 784\n",
    "hidden_sizes = [128, 64] # [# of units in hidden layer 1, # of units in hidden layer 2]\n",
    "output_size = 10 # output class 0-9\n",
    "\n",
    "\n",
    "model = nn.Sequential(OrderedDict([\n",
    "                        ('fc1', nn.Linear(input_size, hidden_sizes[0])),\n",
    "                        ('relu1', nn.ReLU()),\n",
    "                        ('fc2', nn.Linear(hidden_sizes[0], hidden_sizes[1])),\n",
    "                        ('relu2', nn.ReLU()),\n",
    "                        ('logits', nn.Linear(hidden_sizes[1], output_size))]))\n",
    "print(model)"
   ]
  },
  {
   "cell_type": "markdown",
   "id": "f450952d",
   "metadata": {},
   "source": [
    "# Training the Network\n",
    "\n",
    "## Loss function and Optimizer\n",
    "Loss function typically uses cross entropy loss criterion = nn.CrossEntropyLoss(); Cross entropy loss combines softmax and NLL loss (nn.NLLLoss()).\n",
    "NLL Loss being uesd for the output of Net is a distribution of class scores which this condtion fit to the model.\n",
    "\n",
    "Some standard stochastic optimizers are stochastic gradient descent and Adam.\n",
    "\n",
    "Apply momentum. It helps to find and then move on from local minimums and find the global minimum"
   ]
  },
  {
   "cell_type": "code",
   "execution_count": 4,
   "id": "70134a58",
   "metadata": {},
   "outputs": [],
   "source": [
    "# additional necessary package for optimizer\n",
    "import torch.optim as optim\n",
    "\n",
    "# # Apply NLL Loss for distribution of class scores\n",
    "# criterion = nn.NLLLoss()\n",
    "####\n",
    "# using cross entropy which combines sftmax and NLL loss\n",
    "criterion = nn.CrossEntropyLoss()\n",
    "\n",
    "# Optimizer used SGD with small learning rate 0.01\n",
    "# optimizer = optim.SGD(net.parameters(), lr=0.01, momentum=0.9)\n",
    "#try without momentum\n",
    "optimizer = optim.SGD(model.parameters(), lr=0.01)\n",
    "\n",
    "####"
   ]
  },
  {
   "cell_type": "markdown",
   "id": "cb441c2d",
   "metadata": {},
   "source": [
    "Let's see the"
   ]
  },
  {
   "cell_type": "code",
   "execution_count": 5,
   "id": "4d7e8f3f",
   "metadata": {},
   "outputs": [
    {
     "name": "stdout",
     "output_type": "stream",
     "text": [
      "Initial weights -  Parameter containing:\n",
      "tensor([[ 0.0234, -0.0124, -0.0341,  ...,  0.0185,  0.0094,  0.0355],\n",
      "        [ 0.0048,  0.0315,  0.0182,  ...,  0.0056, -0.0342, -0.0049],\n",
      "        [-0.0041, -0.0034,  0.0247,  ...,  0.0040, -0.0076,  0.0153],\n",
      "        ...,\n",
      "        [-0.0338, -0.0019,  0.0193,  ...,  0.0140, -0.0032,  0.0028],\n",
      "        [-0.0034, -0.0090, -0.0342,  ..., -0.0104, -0.0110, -0.0009],\n",
      "        [-0.0238,  0.0196,  0.0314,  ..., -0.0200,  0.0289,  0.0300]],\n",
      "       requires_grad=True)\n",
      "Initial biases -  Parameter containing:\n",
      "tensor([-0.0074,  0.0348,  0.0084,  0.0167, -0.0020, -0.0337, -0.0185, -0.0009,\n",
      "        -0.0328,  0.0023,  0.0071, -0.0351,  0.0268, -0.0180,  0.0004,  0.0134,\n",
      "         0.0236, -0.0036,  0.0038, -0.0050, -0.0036,  0.0111,  0.0078, -0.0082,\n",
      "        -0.0112,  0.0355, -0.0037, -0.0218, -0.0009, -0.0212,  0.0240, -0.0193,\n",
      "         0.0076, -0.0016,  0.0254, -0.0005, -0.0307,  0.0101,  0.0205, -0.0062,\n",
      "        -0.0158,  0.0013, -0.0352,  0.0036,  0.0256, -0.0280, -0.0109,  0.0234,\n",
      "         0.0085,  0.0331, -0.0256,  0.0245, -0.0163,  0.0241, -0.0191, -0.0245,\n",
      "         0.0068, -0.0300,  0.0296,  0.0133,  0.0216, -0.0248, -0.0227,  0.0191,\n",
      "         0.0112, -0.0154,  0.0112,  0.0061, -0.0025, -0.0043, -0.0264,  0.0135,\n",
      "         0.0254, -0.0334, -0.0171, -0.0263,  0.0356, -0.0268, -0.0343,  0.0321,\n",
      "        -0.0261, -0.0145,  0.0281, -0.0168,  0.0240, -0.0080, -0.0182,  0.0304,\n",
      "        -0.0020,  0.0075,  0.0301, -0.0175, -0.0042, -0.0192,  0.0019,  0.0141,\n",
      "         0.0089, -0.0285,  0.0099, -0.0357,  0.0030,  0.0155,  0.0241,  0.0262,\n",
      "         0.0050, -0.0207,  0.0125, -0.0098, -0.0126, -0.0118,  0.0207,  0.0260,\n",
      "         0.0110,  0.0159,  0.0242, -0.0261,  0.0273,  0.0103, -0.0283,  0.0335,\n",
      "         0.0058,  0.0280, -0.0313,  0.0184, -0.0125, -0.0245,  0.0062, -0.0335],\n",
      "       requires_grad=True)\n"
     ]
    }
   ],
   "source": [
    "print('Initial weights - ', model.fc1.weight)\n",
    "print('Initial biases - ', model.fc1.bias)"
   ]
  },
  {
   "cell_type": "markdown",
   "id": "b6077369",
   "metadata": {},
   "source": [
    "Let's run one learning step before looping through all the data."
   ]
  },
  {
   "cell_type": "code",
   "execution_count": 6,
   "id": "f52c7907",
   "metadata": {},
   "outputs": [
    {
     "name": "stdout",
     "output_type": "stream",
     "text": [
      "Gradient - tensor([[ 0.0001,  0.0001,  0.0001,  ...,  0.0001,  0.0001,  0.0001],\n",
      "        [-0.0005, -0.0005, -0.0005,  ..., -0.0005, -0.0005, -0.0005],\n",
      "        [-0.0020, -0.0020, -0.0020,  ..., -0.0020, -0.0020, -0.0020],\n",
      "        ...,\n",
      "        [-0.0002, -0.0002, -0.0002,  ..., -0.0002, -0.0002, -0.0002],\n",
      "        [-0.0016, -0.0016, -0.0016,  ..., -0.0016, -0.0016, -0.0016],\n",
      "        [-0.0007, -0.0007, -0.0007,  ..., -0.0007, -0.0007, -0.0007]])\n"
     ]
    },
    {
     "name": "stderr",
     "output_type": "stream",
     "text": [
      "/home/eightun/anaconda3/lib/python3.7/site-packages/torch/autograd/__init__.py:147: UserWarning: CUDA initialization: CUDA unknown error - this may be due to an incorrectly set up environment, e.g. changing env variable CUDA_VISIBLE_DEVICES after program start. Setting the available devices to be zero. (Triggered internally at  /pytorch/c10/cuda/CUDAFunctions.cpp:109.)\n",
      "  allow_unreachable=True, accumulate_grad=True)  # allow_unreachable flag\n"
     ]
    }
   ],
   "source": [
    "# obtain one batch of training images\n",
    "# iter\n",
    "# dataiter = iter(train_loader)\n",
    "# images, labels = dataiter.next()\n",
    "images, labels = next(iter(train_loader))\n",
    "images.resize_(batch_size, input_size) #(64, 784)\n",
    "\n",
    "# Clear the gradients, do this because gradients are accumulated\n",
    "optimizer.zero_grad()\n",
    "\n",
    "# Forward pass, then backward pass, then update weights\n",
    "output = model.forward(images)\n",
    "loss = criterion(output, labels)\n",
    "loss.backward()\n",
    "print('Gradient -', model.fc1.weight.grad)\n",
    "optimizer.step()\n"
   ]
  },
  {
   "cell_type": "code",
   "execution_count": 7,
   "id": "40358e41",
   "metadata": {},
   "outputs": [
    {
     "name": "stdout",
     "output_type": "stream",
     "text": [
      "Updated weights -  Parameter containing:\n",
      "tensor([[ 0.0234, -0.0124, -0.0341,  ...,  0.0185,  0.0093,  0.0355],\n",
      "        [ 0.0048,  0.0315,  0.0182,  ...,  0.0056, -0.0342, -0.0049],\n",
      "        [-0.0041, -0.0034,  0.0247,  ...,  0.0041, -0.0076,  0.0153],\n",
      "        ...,\n",
      "        [-0.0338, -0.0019,  0.0193,  ...,  0.0140, -0.0032,  0.0028],\n",
      "        [-0.0033, -0.0090, -0.0342,  ..., -0.0103, -0.0110, -0.0009],\n",
      "        [-0.0238,  0.0196,  0.0314,  ..., -0.0200,  0.0289,  0.0300]],\n",
      "       requires_grad=True)\n"
     ]
    }
   ],
   "source": [
    "print('Updated weights - ', model.fc1.weight)"
   ]
  },
  {
   "cell_type": "markdown",
   "id": "ffae594e",
   "metadata": {},
   "source": [
    "## Training the Network\n",
    "Loop over the training dataset in batches and record the loss "
   ]
  },
  {
   "cell_type": "code",
   "execution_count": 8,
   "id": "b56bc734",
   "metadata": {},
   "outputs": [],
   "source": [
    "# with momentum\n",
    "optimizer = optim.SGD(model.parameters(), lr=0.003, momentum=0.9)"
   ]
  },
  {
   "cell_type": "code",
   "execution_count": 9,
   "id": "ad2f5f9f",
   "metadata": {},
   "outputs": [],
   "source": [
    "def train(epochs):\n",
    "    # collect loss as the network trains\n",
    "    loss_over_time = []\n",
    "    steps = 0\n",
    "    print_every = 40\n",
    "    \n",
    "    # loop over the dataset\n",
    "    for epoch in range(epochs):\n",
    "        \n",
    "        running_loss = 0.0\n",
    "        \n",
    "        for images, labels in iter(train_loader):\n",
    "            steps += 1\n",
    "            \n",
    "            # Flatten MNIST images into a 784 long vector\n",
    "            images.resize_(images.size()[0], 784)\n",
    "            \n",
    "            # Zero the parameter(weight) gradients\n",
    "            optimizer.zero_grad()\n",
    "\n",
    "            # Forward pass to get outputs\n",
    "            outputs = model.forward(images)\n",
    "\n",
    "            # Calculate the loss\n",
    "            loss = criterion(outputs, labels)\n",
    "\n",
    "            # backward pass o calculate the parameter gradients\n",
    "            loss.backward()\n",
    "\n",
    "            # Update the parameters\n",
    "            optimizer.step()\n",
    "\n",
    "            #Print loss stat to convert loss into a scalar and add it to running_loss, here used .item()\n",
    "            running_loss += loss.item()\n",
    "            \n",
    "            # show stat. at every 40\n",
    "            if steps % print_every == 0:\n",
    "                avg_loss = running_loss/print_every\n",
    "                # record and print avg loss over 40 batches\n",
    "                loss_over_time.append(avg_loss)\n",
    "                \n",
    "                print(\"Epoch: {}/{}... \".format(epoch+1, epochs),\n",
    "                      \"Loss: {:.4f}\".format(avg_loss))\n",
    "                running_loss = 0.0\n",
    "    \n",
    "    print(\"Finished Training\")\n",
    "    \n",
    "    return loss_over_time"
   ]
  },
  {
   "cell_type": "code",
   "execution_count": 10,
   "id": "fc88ec21",
   "metadata": {},
   "outputs": [
    {
     "name": "stdout",
     "output_type": "stream",
     "text": [
      "Epoch: 1/3...  Loss: 2.2308\n",
      "Epoch: 1/3...  Loss: 1.9203\n",
      "Epoch: 1/3...  Loss: 1.3859\n",
      "Epoch: 1/3...  Loss: 0.9477\n",
      "Epoch: 1/3...  Loss: 0.7284\n",
      "Epoch: 1/3...  Loss: 0.6146\n",
      "Epoch: 1/3...  Loss: 0.5313\n",
      "Epoch: 1/3...  Loss: 0.4857\n",
      "Epoch: 1/3...  Loss: 0.4412\n",
      "Epoch: 1/3...  Loss: 0.4106\n",
      "Epoch: 1/3...  Loss: 0.4327\n",
      "Epoch: 1/3...  Loss: 0.4434\n",
      "Epoch: 1/3...  Loss: 0.4002\n",
      "Epoch: 1/3...  Loss: 0.3689\n",
      "Epoch: 1/3...  Loss: 0.3627\n",
      "Epoch: 1/3...  Loss: 0.3525\n",
      "Epoch: 1/3...  Loss: 0.3463\n",
      "Epoch: 1/3...  Loss: 0.3515\n",
      "Epoch: 1/3...  Loss: 0.3279\n",
      "Epoch: 1/3...  Loss: 0.3260\n",
      "Epoch: 1/3...  Loss: 0.3297\n",
      "Epoch: 1/3...  Loss: 0.3345\n",
      "Epoch: 1/3...  Loss: 0.2956\n",
      "Epoch: 2/3...  Loss: 0.1745\n",
      "Epoch: 2/3...  Loss: 0.3196\n",
      "Epoch: 2/3...  Loss: 0.3073\n",
      "Epoch: 2/3...  Loss: 0.3359\n",
      "Epoch: 2/3...  Loss: 0.2931\n",
      "Epoch: 2/3...  Loss: 0.2942\n",
      "Epoch: 2/3...  Loss: 0.2575\n",
      "Epoch: 2/3...  Loss: 0.2979\n",
      "Epoch: 2/3...  Loss: 0.2736\n",
      "Epoch: 2/3...  Loss: 0.2939\n",
      "Epoch: 2/3...  Loss: 0.3059\n",
      "Epoch: 2/3...  Loss: 0.2594\n",
      "Epoch: 2/3...  Loss: 0.2669\n",
      "Epoch: 2/3...  Loss: 0.2579\n",
      "Epoch: 2/3...  Loss: 0.2667\n",
      "Epoch: 2/3...  Loss: 0.2671\n",
      "Epoch: 2/3...  Loss: 0.2638\n",
      "Epoch: 2/3...  Loss: 0.2646\n",
      "Epoch: 2/3...  Loss: 0.2349\n",
      "Epoch: 2/3...  Loss: 0.2517\n",
      "Epoch: 2/3...  Loss: 0.2532\n",
      "Epoch: 2/3...  Loss: 0.2675\n",
      "Epoch: 2/3...  Loss: 0.2622\n",
      "Epoch: 3/3...  Loss: 0.0213\n",
      "Epoch: 3/3...  Loss: 0.2334\n",
      "Epoch: 3/3...  Loss: 0.2553\n",
      "Epoch: 3/3...  Loss: 0.2378\n",
      "Epoch: 3/3...  Loss: 0.2274\n",
      "Epoch: 3/3...  Loss: 0.2014\n",
      "Epoch: 3/3...  Loss: 0.2306\n",
      "Epoch: 3/3...  Loss: 0.2326\n",
      "Epoch: 3/3...  Loss: 0.2329\n",
      "Epoch: 3/3...  Loss: 0.2242\n",
      "Epoch: 3/3...  Loss: 0.2264\n",
      "Epoch: 3/3...  Loss: 0.2082\n",
      "Epoch: 3/3...  Loss: 0.2352\n",
      "Epoch: 3/3...  Loss: 0.2131\n",
      "Epoch: 3/3...  Loss: 0.2072\n",
      "Epoch: 3/3...  Loss: 0.2031\n",
      "Epoch: 3/3...  Loss: 0.1955\n",
      "Epoch: 3/3...  Loss: 0.1952\n",
      "Epoch: 3/3...  Loss: 0.1931\n",
      "Epoch: 3/3...  Loss: 0.2076\n",
      "Epoch: 3/3...  Loss: 0.1975\n",
      "Epoch: 3/3...  Loss: 0.1837\n",
      "Epoch: 3/3...  Loss: 0.1938\n",
      "Epoch: 3/3...  Loss: 0.1910\n",
      "Finished Training\n"
     ]
    }
   ],
   "source": [
    "# define the number of epochs to train for\n",
    "# start with small epochs to see if model works initially\n",
    "n_epochs = 3\n",
    "\n",
    "# call train and record the loss over time\n",
    "training_loss = train(n_epochs)"
   ]
  },
  {
   "cell_type": "code",
   "execution_count": 11,
   "id": "155fa57c",
   "metadata": {},
   "outputs": [],
   "source": [
    "def view_classify(img, ps, version=\"MNIST\"):\n",
    "    ''' Function for viewing an image and it's predicted classes.\n",
    "    '''\n",
    "    ps = ps.data.numpy().squeeze()\n",
    "\n",
    "    fig, (ax1, ax2) = plt.subplots(figsize=(6,9), ncols=2)\n",
    "    ax1.imshow(img.resize_(1, 28, 28).numpy().squeeze())\n",
    "    ax1.axis('off')\n",
    "    ax2.barh(np.arange(10), ps)\n",
    "    ax2.set_aspect(0.1)\n",
    "    ax2.set_yticks(np.arange(10))\n",
    "    if version == \"MNIST\":\n",
    "        ax2.set_yticklabels(np.arange(10))\n",
    "    elif version == \"Fashion\":\n",
    "        ax2.set_yticklabels(['T-shirt/top',\n",
    "                            'Trouser',\n",
    "                            'Pullover',\n",
    "                            'Dress',\n",
    "                            'Coat',\n",
    "                            'Sandal',\n",
    "                            'Shirt',\n",
    "                            'Sneaker',\n",
    "                            'Bag',\n",
    "                            'Ankle Boot'], size='small');\n",
    "    ax2.set_title('Class Probability')\n",
    "    ax2.set_xlim(0, 1.1)\n",
    "\n",
    "    plt.tight_layout()\n",
    "    "
   ]
  },
  {
   "cell_type": "code",
   "execution_count": 16,
   "id": "c4151228",
   "metadata": {},
   "outputs": [
    {
     "data": {
      "image/png": "[encoded data removed]",
      "text/plain": [
       "<Figure size 432x648 with 2 Axes>"
      ]
     },
     "metadata": {
      "image/png": {
       "height": 235,
       "width": 424
      },
      "needs_background": "light"
     },
     "output_type": "display_data"
    }
   ],
   "source": [
    "images, labels = next(iter(train_loader))\n",
    "\n",
    "img = images[0].view(1, 784)\n",
    "# Turn off gradients to speed up this part\n",
    "with torch.no_grad():\n",
    "    logits = model.forward(img)\n",
    "\n",
    "# Output of the network are logits, need to take softmax for probabilities\n",
    "ps = F.softmax(logits, dim=1)\n",
    "view_classify(img.view(1, 28, 28), ps)"
   ]
  },
  {
   "cell_type": "code",
   "execution_count": 17,
   "id": "82123c0f",
   "metadata": {},
   "outputs": [
    {
     "data": {
      "image/png": "[encoded data removed]",
      "text/plain": [
       "<Figure size 432x288 with 1 Axes>"
      ]
     },
     "metadata": {
      "image/png": {
       "height": 265,
       "width": 385
      },
      "needs_background": "light"
     },
     "output_type": "display_data"
    }
   ],
   "source": [
    "# Visualize the Loss\n",
    "plt.plot(training_loss)\n",
    "plt.xlabel('40\\'s of batches')\n",
    "plt.ylabel('Loss')\n",
    "plt.ylim(0, 2.5)\n",
    "plt.show()\n",
    "           "
   ]
  },
  {
   "cell_type": "code",
   "execution_count": null,
   "id": "3f6d3584",
   "metadata": {},
   "outputs": [],
   "source": []
  },
  {
   "cell_type": "code",
   "execution_count": null,
   "id": "76184e79",
   "metadata": {},
   "outputs": [],
   "source": []
  }
 ],
 "metadata": {
  "kernelspec": {
   "display_name": "Python 3",
   "language": "python",
   "name": "python3"
  },
  "language_info": {
   "codemirror_mode": {
    "name": "ipython",
    "version": 3
   },
   "file_extension": ".py",
   "mimetype": "text/x-python",
   "name": "python",
   "nbconvert_exporter": "python",
   "pygments_lexer": "ipython3",
   "version": "3.7.7"
  }
 },
 "nbformat": 4,
 "nbformat_minor": 5
}
