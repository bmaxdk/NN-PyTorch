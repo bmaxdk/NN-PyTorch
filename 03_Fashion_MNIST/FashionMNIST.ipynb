{
 "cells": [
  {
   "cell_type": "markdown",
   "id": "26fe7704",
   "metadata": {},
   "source": [
    "# FashionMNIST\n",
    "Load images from the [Fashion-MNIST data](https://github.com/zalandoresearch/fashion-mnist)\n",
    "\n",
    "\n",
    "The dataset comprised of 60,000 small square 28x28 pixel grayscale images of items of 10 types of clothing with 0-9 class labels.\n",
    "\n",
    "### Load the Fashion-MNIST data\n",
    "* Use ``torch.utils.data.dataset``\n",
    "* Data path: data\n",
    "* Apply transformations to the data (turning all images into Tensor's for training a NN\n",
    "\n",
    "## Import the Necessary Packages"
   ]
  },
  {
   "cell_type": "code",
   "execution_count": 1,
   "id": "e694a109",
   "metadata": {},
   "outputs": [],
   "source": [
    "# basic torch libraries\n",
    "import torch\n",
    "import torchvision\n",
    "\n",
    "# data loading and transforming\n",
    "from torchvision.datasets import FashionMNIST\n",
    "from torch.utils.data import DataLoader\n",
    "from torchvision import transforms\n"
   ]
  },
  {
   "cell_type": "markdown",
   "id": "1eb5a46b",
   "metadata": {},
   "source": [
    "### The output of ``torchvision`` are PILImage images of range [0, 1]\n",
    "* Transform them to Tensor for input into a CNN"
   ]
  },
  {
   "cell_type": "code",
   "execution_count": 4,
   "id": "0f837934",
   "metadata": {},
   "outputs": [
    {
     "name": "stdout",
     "output_type": "stream",
     "text": [
      "Train data, number of images 60000\n",
      "Dataset FashionMNIST\n",
      "    Number of datapoints: 60000\n",
      "    Split: train\n",
      "    Root Location: ./data\n",
      "    Transforms (if any): ToTensor()\n",
      "    Target Transforms (if any): None\n"
     ]
    }
   ],
   "source": [
    "# Defin a transform to read the data in as a Tensor\n",
    "data_transform = transforms.ToTensor()\n",
    "\n",
    "# Choose the training and test datasets\n",
    "path = './data'\n",
    "train_data = FashionMNIST(root=path,\n",
    "                          train=True,\n",
    "                          download=False,\n",
    "                          transform=data_transform)\n",
    "\n",
    "# Print out some stats about the training data\n",
    "print('Train data, number of images', len(train_data))\n"
   ]
  },
  {
   "cell_type": "code",
   "execution_count": null,
   "id": "ad332698",
   "metadata": {},
   "outputs": [],
   "source": []
  },
  {
   "cell_type": "code",
   "execution_count": null,
   "id": "77c0bf47",
   "metadata": {},
   "outputs": [],
   "source": []
  },
  {
   "cell_type": "code",
   "execution_count": null,
   "id": "fe84aadd",
   "metadata": {},
   "outputs": [],
   "source": []
  }
 ],
 "metadata": {
  "kernelspec": {
   "display_name": "Python 3",
   "language": "python",
   "name": "python3"
  },
  "language_info": {
   "codemirror_mode": {
    "name": "ipython",
    "version": 3
   },
   "file_extension": ".py",
   "mimetype": "text/x-python",
   "name": "python",
   "nbconvert_exporter": "python",
   "pygments_lexer": "ipython3",
   "version": "3.7.7"
  }
 },
 "nbformat": 4,
 "nbformat_minor": 5
}
